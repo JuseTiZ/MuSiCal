{
 "cells": [
  {
   "cell_type": "markdown",
   "id": "b50f2267",
   "metadata": {},
   "source": [
    "This example outlines all the steps of signature analysis except preprocessing."
   ]
  },
  {
   "cell_type": "code",
   "execution_count": null,
   "id": "1656ef32",
   "metadata": {},
   "outputs": [],
   "source": [
    "import musical\n",
    "import pickle\n",
    "import numpy as np\n",
    "import pandas as pd\n",
    "\n",
    "from musical.utils import get_sig_indices_associated\n",
    "from musical.refit import refit_matrix"
   ]
  },
  {
   "cell_type": "markdown",
   "id": "7f76ba9b",
   "metadata": {},
   "source": [
    "Read input data X, in this case it is a simulated dataset.\n",
    "You can replace it with your own file."
   ]
  },
  {
   "cell_type": "code",
   "execution_count": null,
   "id": "d60dc167",
   "metadata": {},
   "outputs": [],
   "source": [
    "X = pd.read_csv('data/simulated/X_simul_8sig.csv')\n",
    "samples = X.columns\n",
    "X = np.array(X)"
   ]
  },
  {
   "cell_type": "markdown",
   "id": "89d769be",
   "metadata": {},
   "source": [
    "## Run de novo discovery"
   ]
  },
  {
   "cell_type": "code",
   "execution_count": null,
   "id": "02792ae6",
   "metadata": {},
   "outputs": [],
   "source": [
    "min_n_components = 2\n",
    "max_n_components = 10 # For some cohorts 10 is not large enough, replace with 20\n",
    "model = musical.DenovoSig(X, \n",
    "                          min_n_components = min_n_components, \n",
    "                          max_n_components = max_n_components, \n",
    "                          init='nndsvdar', \n",
    "                          method='mvnmf', \n",
    "                          n_replicates=20, \n",
    "                          ncpu=10, \n",
    "                          mvnmf_lambda_tilde_grid=np.array([1e-10, 1e-9, 5e-9, 1e-8, 5e-8, 1e-7, 2e-7, 5e-7, 1e-6, 2e-6, 5e-6, 1e-5, 2e-5, 5e-5, 1e-4, 2e-4, 5e-4, 1e-3, 5e-3, 1e-2, 5e-2, 1e-1, 5e-1]),mv\\\n",
    "                          nmf_hyperparameter_method='single',\n",
    "                          conv_test_freq=1000,\n",
    "                          conv_test_baseline='min-iter',\n",
    "                          max_iter=100000,\n",
    "                          bootstrap=True,\n",
    "                          tol=1e-8, \n",
    "                          verbose = 1, \n",
    "                          normalize_X = True)\n",
    "model.fit()"
   ]
  },
  {
   "cell_type": "markdown",
   "id": "3176b129",
   "metadata": {},
   "source": [
    "The output of the above calculation can be found in the data folder:"
   ]
  },
  {
   "cell_type": "code",
   "execution_count": null,
   "id": "faf4684f",
   "metadata": {},
   "outputs": [],
   "source": [
    "with open('data/simulated/musical_output_simul_8sig.pkl', 'rb') as f:\n",
    "    model = pickle.load(f)"
   ]
  },
  {
   "cell_type": "markdown",
   "id": "414ae44a",
   "metadata": {},
   "source": [
    "## Matching and refitting"
   ]
  },
  {
   "cell_type": "markdown",
   "id": "32578ed9",
   "metadata": {},
   "source": [
    "Define a grid for matching and refitting"
   ]
  },
  {
   "cell_type": "code",
   "execution_count": null,
   "id": "b9c37105",
   "metadata": {},
   "outputs": [],
   "source": [
    "model.thresh1_all = np.logspace(-3, -1, 10, endpoint = True)\n",
    "model.thresh1_match_all = np.logspace(-3, -1, 10, endpoint = True)"
   ]
  },
  {
   "cell_type": "markdown",
   "id": "b98b3462",
   "metadata": {},
   "source": [
    "Load the catalog that will be used for refitting.\n",
    "Restrict signatures to the specific tumor type.\n",
    "Remove MMRD POLE-exo related signatures, if you have previously exclued these samples."
   ]
  },
  {
   "cell_type": "code",
   "execution_count": null,
   "id": "615a7dd7",
   "metadata": {},
   "outputs": [],
   "source": [
    "catalog = musical.load_catalog('COSMIC-MuSiCal_v3p2_SBS_WGS')\n",
    "W_catalog = np.array(catalog.W)"
   ]
  },
  {
   "cell_type": "code",
   "execution_count": null,
   "id": "b54259fa",
   "metadata": {},
   "outputs": [],
   "source": [
    "catalog.restrict_catalog(tumor_type = 'Breast.AdenoCA', is_MMRD = False, is_PPD = False)\n",
    "signatures = np.array(catalog.signatures)"
   ]
  },
  {
   "cell_type": "markdown",
   "id": "015b6aaa",
   "metadata": {},
   "source": [
    "Run refitting"
   ]
  },
  {
   "cell_type": "code",
   "execution_count": null,
   "id": "51aa93d4",
   "metadata": {},
   "outputs": [],
   "source": [
    "model.run_reassign(W_catalog = W_catalog, signatures = signatures)"
   ]
  },
  {
   "cell_type": "markdown",
   "id": "55d24342",
   "metadata": {},
   "source": [
    "## Validation"
   ]
  },
  {
   "cell_type": "markdown",
   "id": "ccfa70ab",
   "metadata": {},
   "source": [
    "Run validation with a single command line (we suggest to perform this on a computing cluster because grid x 3 de novo discoveries are performed"
   ]
  },
  {
   "cell_type": "code",
   "execution_count": null,
   "id": "ba0af9b8",
   "metadata": {},
   "outputs": [],
   "source": [
    "model.validate_assignment()"
   ]
  },
  {
   "cell_type": "markdown",
   "id": "54accdbd",
   "metadata": {},
   "source": [
    "The above step is resource intensive so you can load the result saved in the data folder"
   ]
  },
  {
   "cell_type": "code",
   "execution_count": null,
   "id": "3609778e",
   "metadata": {},
   "outputs": [],
   "source": [
    "with open('data/simulated/musical_output_simul_8sig_validate.pkl', 'rb') as f:\n",
    "    model = pickle.load(f)"
   ]
  },
  {
   "cell_type": "markdown",
   "id": "96e623b5",
   "metadata": {},
   "source": [
    "The best refitting and matching parameters are selected based on the distance between signatures in simulations and data"
   ]
  },
  {
   "cell_type": "code",
   "execution_count": null,
   "id": "8885587b",
   "metadata": {},
   "outputs": [],
   "source": [
    "print(model.thresh1)\n",
    "print(model.thresh1_match)"
   ]
  },
  {
   "cell_type": "markdown",
   "id": "feb646a2",
   "metadata": {},
   "source": [
    "Plot signatures discovered in data"
   ]
  },
  {
   "cell_type": "code",
   "execution_count": null,
   "id": "b5368a06",
   "metadata": {},
   "outputs": [],
   "source": [
    "musical.sigplot_bar(model.W)"
   ]
  },
  {
   "cell_type": "markdown",
   "id": "7e9df4a2",
   "metadata": {},
   "source": [
    "Plot signatures discovered in simulated data. The de novo signatures for other grid parameters are saved in model.W_simul_all"
   ]
  },
  {
   "cell_type": "code",
   "execution_count": null,
   "id": "14a76a5b",
   "metadata": {},
   "outputs": [],
   "source": [
    "musical.sigplot_bar(model.W_simul)"
   ]
  },
  {
   "cell_type": "markdown",
   "id": "42d7a9e2",
   "metadata": {},
   "source": [
    "You can save the assignments as data tables:"
   ]
  },
  {
   "cell_type": "code",
   "execution_count": null,
   "id": "b4e42247",
   "metadata": {},
   "outputs": [],
   "source": [
    "W_s = model.W_s\n",
    "H_s = model.H_s\n",
    "df_W_s = pd.DataFrame(W_s, columns=signatures, index=model.features)\n",
    "df_H_s = pd.DataFrame(t(H_s), columns=signatures, index=samples)\n",
    "df_W_s.to_csv('W_s_example.csv')\n",
    "df_H_s.to_csv('H_s_example.csv')"
   ]
  },
  {
   "cell_type": "markdown",
   "id": "ae3370f0",
   "metadata": {},
   "source": [
    "#### Alternative solution using distance between simulation and data with the largest discrepency"
   ]
  },
  {
   "cell_type": "markdown",
   "id": "7ff9823f",
   "metadata": {},
   "source": [
    "The best grid parameter is selected based on total cosine distance between W and W_simul, minimum number of signatures and smallest frobennius error in comparison of H and H_simul. It is also possible to use the cosine distance between W and W_simul for the signature with the largest discrepency. The grid index for this solution can be found and used to access the results"
   ]
  },
  {
   "cell_type": "code",
   "execution_count": null,
   "id": "be4196eb",
   "metadata": {},
   "outputs": [],
   "source": [
    "print(model.best_grid_index)\n",
    "print(model.thresh1_all[model.best_grid_index])\n",
    "print(model.thresh1_match[model.best_grid_index])"
   ]
  },
  {
   "cell_type": "markdown",
   "id": "35b73f61",
   "metadata": {},
   "source": [
    "The signature assignments for all grid indices are saved in model.W_s_all and model.H_s_all. You can get the assignments corresponding to the above index:"
   ]
  },
  {
   "cell_type": "code",
   "execution_count": null,
   "id": "24e7a485",
   "metadata": {},
   "outputs": [],
   "source": [
    "W_s_alternative = model.W_s_all[model.best_grid_index]\n",
    "H_s_alternative = model.H_s_all[model.best_grid_index]"
   ]
  },
  {
   "cell_type": "markdown",
   "id": "c5e72866",
   "metadata": {},
   "source": [
    "## Comparing solution to the true exposures that were used to generate the input X matrix "
   ]
  },
  {
   "cell_type": "markdown",
   "id": "b81772dc",
   "metadata": {},
   "source": [
    "Download the input exposures and signatures"
   ]
  },
  {
   "cell_type": "code",
   "execution_count": null,
   "id": "a6e726d9",
   "metadata": {},
   "outputs": [],
   "source": [
    "H_truth = pd.read_csv('data/simulated/H_s_simul_8sig.csv')\n",
    "W_truth = pd.read_csv('data/simulated/W_s_simul_8sig.csv')\n",
    "signatures_truth = np.array(W_truth.columns)\n",
    "H_truth = np.array(H_truth)\n",
    "W_truth = np.array(W_truth)"
   ]
  },
  {
   "cell_type": "markdown",
   "id": "a8d24e8b",
   "metadata": {},
   "source": [
    "Calculate sensitivity, false positive rate"
   ]
  },
  {
   "cell_type": "code",
   "execution_count": null,
   "id": "2c97f034",
   "metadata": {},
   "outputs": [],
   "source": [
    "inds = [index for index,item in enumerate(signatures_assigned) if item in signatures_truth]\n",
    "inds_truth = [index for index,item in enumerate(signatures_truth) if item in signatures_assigned[inds]]\n",
    "\n",
    "inds_unmatched = [index for index,item in enumerate(signatures_assigned) if item not in signatures_truth]\n",
    "inds_truth_unmatched = [index for index,item in enumerate(signatures_truth) if item not in signatures_assigned]\n",
    "\n",
    "per_sample_agreement = (H_s[inds,:] > 0) == (H_truth[inds_truth,:] > 0)"
   ]
  },
  {
   "cell_type": "code",
   "execution_count": null,
   "id": "f3c9749d",
   "metadata": {},
   "outputs": [],
   "source": [
    "accuracy = np.sum(per_sample_agreement)/np.size(H_truth)"
   ]
  },
  {
   "cell_type": "code",
   "execution_count": null,
   "id": "6b94dd61",
   "metadata": {},
   "outputs": [],
   "source": [
    "sensitivity = np.sum((H_truth[inds_truth] > 0) * per_sample_agreement)/np.sum(H_truth > 0) \n",
    "sensitivity = sensitivity - np.sum(H_truth[inds_truth_unmatched,:] > 0)/np.sum(H_truth > 0)"
   ]
  },
  {
   "cell_type": "code",
   "execution_count": null,
   "id": "009634f8",
   "metadata": {},
   "outputs": [],
   "source": [
    "fpr = 1 - np.sum((H_truth == 0) * per_sample_agreement)/np.sum(H_truth == 0)\n",
    "fpr = fpr + np.sum(H_s[inds_unmatched] > 0)/np.sum(H_truth == 0)"
   ]
  }
 ],
 "metadata": {
  "kernelspec": {
   "display_name": "python37_musical_3",
   "language": "python",
   "name": "python37_musical_3"
  },
  "language_info": {
   "codemirror_mode": {
    "name": "ipython",
    "version": 3
   },
   "file_extension": ".py",
   "mimetype": "text/x-python",
   "name": "python",
   "nbconvert_exporter": "python",
   "pygments_lexer": "ipython3",
   "version": "3.7.11"
  }
 },
 "nbformat": 4,
 "nbformat_minor": 5
}
