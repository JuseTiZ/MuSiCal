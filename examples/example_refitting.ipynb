{
 "cells": [
  {
   "cell_type": "markdown",
   "metadata": {},
   "source": [
    "<h1 id=\"tocheading\">Table of Contents</h1>\n",
    "<div id=\"toc\"></div>"
   ]
  },
  {
   "cell_type": "code",
   "execution_count": 1,
   "metadata": {},
   "outputs": [],
   "source": [
    "%%javascript\n",
    "$.getScript('https://kmahelona.github.io/ipython_notebook_goodies/ipython_notebook_toc.js')"
   ]
  },
  {
   "cell_type": "code",
   "execution_count": 2,
   "metadata": {},
   "outputs": [],
   "source": [
    "# Import some necessary modules\n",
    "%matplotlib inline\n",
    "import numpy as np\n",
    "import scipy.stats as stats\n",
    "import matplotlib.pyplot as plt\n",
    "import seaborn as sns\n",
    "import matplotlib as mpl\n",
    "import pandas as pd\n",
    "import time\n",
    "import scipy as sp\n",
    "import pickle\n",
    "%load_ext autoreload\n",
    "%autoreload 2"
   ]
  },
  {
   "cell_type": "code",
   "execution_count": 3,
   "metadata": {},
   "outputs": [],
   "source": [
    "# Import MuSiCal\n",
    "import musical"
   ]
  },
  {
   "cell_type": "code",
   "execution_count": null,
   "metadata": {},
   "outputs": [],
   "source": []
  },
  {
   "cell_type": "markdown",
   "metadata": {},
   "source": [
    "# Overview "
   ]
  },
  {
   "cell_type": "markdown",
   "metadata": {},
   "source": [
    "In this notebook, we demonstrate how to refit an input matrix $X$ against a signature catalog. Refitting can be performed as a standalone task for predicting signature exposures, or as a downstream step after *de novo* signature discovery and matching the *de novo* signatures to the catalog. "
   ]
  },
  {
   "cell_type": "code",
   "execution_count": null,
   "metadata": {},
   "outputs": [],
   "source": []
  },
  {
   "cell_type": "markdown",
   "metadata": {},
   "source": [
    "# Input data"
   ]
  },
  {
   "cell_type": "markdown",
   "metadata": {},
   "source": [
    "The input data for refitting is the mutation count matrix $X$ and the signature catalog $W$. "
   ]
  },
  {
   "cell_type": "code",
   "execution_count": null,
   "metadata": {},
   "outputs": [],
   "source": []
  },
  {
   "cell_type": "markdown",
   "metadata": {},
   "source": [
    "## The mutation count matrix"
   ]
  },
  {
   "cell_type": "markdown",
   "metadata": {},
   "source": [
    "Here we use a simulated dataset based on PCAWG breast cancers to demonstrate how to perform refitting. The dataset contains 8 SBS signatures (SBS1, 2, 3, 5, 8, 13, 17b, and 18). Note that some minor signatures in the original PCAWG breast cancer dataset are removed for simplicity.  \n",
    "\n",
    "Below, `X` is the simulated mutation count matrix. `W_true` is the true signatures present in the dataset (i.e., the 8 SBS signatures). `H_true` is the true exposure matrix from which `X` is simulated. \n",
    "\n",
    "In reality, only `X` is needed, since `W_true` and `H_true` are unknown. We read the truth information here so that we can evaluate the refitting results."
   ]
  },
  {
   "cell_type": "code",
   "execution_count": 4,
   "metadata": {},
   "outputs": [],
   "source": [
    "X = pd.read_csv('./data/simulated/data_simul.pcawg_breast_8sig.X.csv', index_col=0)\n",
    "W_true = pd.read_csv('./data/simulated/data_simul.pcawg_breast_8sig.W_true.csv', index_col=0)\n",
    "H_true = pd.read_csv('./data/simulated/data_simul.pcawg_breast_8sig.H_true.csv', index_col=0)"
   ]
  },
  {
   "cell_type": "code",
   "execution_count": 5,
   "metadata": {},
   "outputs": [
    {
     "data": {
      "text/html": [
       "<div>\n",
       "<style scoped>\n",
       "    .dataframe tbody tr th:only-of-type {\n",
       "        vertical-align: middle;\n",
       "    }\n",
       "\n",
       "    .dataframe tbody tr th {\n",
       "        vertical-align: top;\n",
       "    }\n",
       "\n",
       "    .dataframe thead th {\n",
       "        text-align: right;\n",
       "    }\n",
       "</style>\n",
       "<table border=\"1\" class=\"dataframe\">\n",
       "  <thead>\n",
       "    <tr style=\"text-align: right;\">\n",
       "      <th></th>\n",
       "      <th>SP117956</th>\n",
       "      <th>SP117402</th>\n",
       "      <th>SP117378</th>\n",
       "      <th>SP117244</th>\n",
       "      <th>SP117079</th>\n",
       "      <th>SP117312</th>\n",
       "      <th>SP117108</th>\n",
       "      <th>SP117370</th>\n",
       "      <th>SP117850</th>\n",
       "      <th>SP117593</th>\n",
       "      <th>...</th>\n",
       "      <th>SP7291</th>\n",
       "      <th>SP7171</th>\n",
       "      <th>SP10563</th>\n",
       "      <th>SP12186</th>\n",
       "      <th>SP10944</th>\n",
       "      <th>SP6673</th>\n",
       "      <th>SP118012</th>\n",
       "      <th>SP124199</th>\n",
       "      <th>SP116365</th>\n",
       "      <th>SP2159</th>\n",
       "    </tr>\n",
       "    <tr>\n",
       "      <th>Type</th>\n",
       "      <th></th>\n",
       "      <th></th>\n",
       "      <th></th>\n",
       "      <th></th>\n",
       "      <th></th>\n",
       "      <th></th>\n",
       "      <th></th>\n",
       "      <th></th>\n",
       "      <th></th>\n",
       "      <th></th>\n",
       "      <th></th>\n",
       "      <th></th>\n",
       "      <th></th>\n",
       "      <th></th>\n",
       "      <th></th>\n",
       "      <th></th>\n",
       "      <th></th>\n",
       "      <th></th>\n",
       "      <th></th>\n",
       "      <th></th>\n",
       "      <th></th>\n",
       "    </tr>\n",
       "  </thead>\n",
       "  <tbody>\n",
       "    <tr>\n",
       "      <th>A[C&gt;A]A</th>\n",
       "      <td>20</td>\n",
       "      <td>25</td>\n",
       "      <td>18</td>\n",
       "      <td>13</td>\n",
       "      <td>17</td>\n",
       "      <td>22</td>\n",
       "      <td>36</td>\n",
       "      <td>21</td>\n",
       "      <td>15</td>\n",
       "      <td>13</td>\n",
       "      <td>...</td>\n",
       "      <td>51</td>\n",
       "      <td>55</td>\n",
       "      <td>52</td>\n",
       "      <td>60</td>\n",
       "      <td>100</td>\n",
       "      <td>389</td>\n",
       "      <td>21</td>\n",
       "      <td>32</td>\n",
       "      <td>78</td>\n",
       "      <td>14</td>\n",
       "    </tr>\n",
       "    <tr>\n",
       "      <th>A[C&gt;A]C</th>\n",
       "      <td>13</td>\n",
       "      <td>23</td>\n",
       "      <td>19</td>\n",
       "      <td>9</td>\n",
       "      <td>12</td>\n",
       "      <td>13</td>\n",
       "      <td>16</td>\n",
       "      <td>18</td>\n",
       "      <td>6</td>\n",
       "      <td>8</td>\n",
       "      <td>...</td>\n",
       "      <td>34</td>\n",
       "      <td>21</td>\n",
       "      <td>31</td>\n",
       "      <td>28</td>\n",
       "      <td>86</td>\n",
       "      <td>324</td>\n",
       "      <td>13</td>\n",
       "      <td>27</td>\n",
       "      <td>65</td>\n",
       "      <td>20</td>\n",
       "    </tr>\n",
       "    <tr>\n",
       "      <th>A[C&gt;A]G</th>\n",
       "      <td>5</td>\n",
       "      <td>6</td>\n",
       "      <td>4</td>\n",
       "      <td>2</td>\n",
       "      <td>1</td>\n",
       "      <td>1</td>\n",
       "      <td>2</td>\n",
       "      <td>2</td>\n",
       "      <td>0</td>\n",
       "      <td>2</td>\n",
       "      <td>...</td>\n",
       "      <td>5</td>\n",
       "      <td>5</td>\n",
       "      <td>5</td>\n",
       "      <td>7</td>\n",
       "      <td>10</td>\n",
       "      <td>35</td>\n",
       "      <td>4</td>\n",
       "      <td>2</td>\n",
       "      <td>5</td>\n",
       "      <td>5</td>\n",
       "    </tr>\n",
       "    <tr>\n",
       "      <th>A[C&gt;A]T</th>\n",
       "      <td>17</td>\n",
       "      <td>13</td>\n",
       "      <td>8</td>\n",
       "      <td>11</td>\n",
       "      <td>5</td>\n",
       "      <td>9</td>\n",
       "      <td>26</td>\n",
       "      <td>10</td>\n",
       "      <td>7</td>\n",
       "      <td>8</td>\n",
       "      <td>...</td>\n",
       "      <td>22</td>\n",
       "      <td>24</td>\n",
       "      <td>22</td>\n",
       "      <td>36</td>\n",
       "      <td>67</td>\n",
       "      <td>312</td>\n",
       "      <td>14</td>\n",
       "      <td>17</td>\n",
       "      <td>41</td>\n",
       "      <td>7</td>\n",
       "    </tr>\n",
       "    <tr>\n",
       "      <th>C[C&gt;A]A</th>\n",
       "      <td>14</td>\n",
       "      <td>19</td>\n",
       "      <td>17</td>\n",
       "      <td>17</td>\n",
       "      <td>5</td>\n",
       "      <td>8</td>\n",
       "      <td>52</td>\n",
       "      <td>22</td>\n",
       "      <td>5</td>\n",
       "      <td>6</td>\n",
       "      <td>...</td>\n",
       "      <td>54</td>\n",
       "      <td>55</td>\n",
       "      <td>45</td>\n",
       "      <td>77</td>\n",
       "      <td>110</td>\n",
       "      <td>317</td>\n",
       "      <td>26</td>\n",
       "      <td>28</td>\n",
       "      <td>76</td>\n",
       "      <td>22</td>\n",
       "    </tr>\n",
       "  </tbody>\n",
       "</table>\n",
       "<p>5 rows × 198 columns</p>\n",
       "</div>"
      ],
      "text/plain": [
       "         SP117956  SP117402  SP117378  SP117244  SP117079  SP117312  SP117108  \\\n",
       "Type                                                                            \n",
       "A[C>A]A        20        25        18        13        17        22        36   \n",
       "A[C>A]C        13        23        19         9        12        13        16   \n",
       "A[C>A]G         5         6         4         2         1         1         2   \n",
       "A[C>A]T        17        13         8        11         5         9        26   \n",
       "C[C>A]A        14        19        17        17         5         8        52   \n",
       "\n",
       "         SP117370  SP117850  SP117593  ...  SP7291  SP7171  SP10563  SP12186  \\\n",
       "Type                                   ...                                     \n",
       "A[C>A]A        21        15        13  ...      51      55       52       60   \n",
       "A[C>A]C        18         6         8  ...      34      21       31       28   \n",
       "A[C>A]G         2         0         2  ...       5       5        5        7   \n",
       "A[C>A]T        10         7         8  ...      22      24       22       36   \n",
       "C[C>A]A        22         5         6  ...      54      55       45       77   \n",
       "\n",
       "         SP10944  SP6673  SP118012  SP124199  SP116365  SP2159  \n",
       "Type                                                            \n",
       "A[C>A]A      100     389        21        32        78      14  \n",
       "A[C>A]C       86     324        13        27        65      20  \n",
       "A[C>A]G       10      35         4         2         5       5  \n",
       "A[C>A]T       67     312        14        17        41       7  \n",
       "C[C>A]A      110     317        26        28        76      22  \n",
       "\n",
       "[5 rows x 198 columns]"
      ]
     },
     "execution_count": 5,
     "metadata": {},
     "output_type": "execute_result"
    }
   ],
   "source": [
    "X.head()"
   ]
  },
  {
   "cell_type": "code",
   "execution_count": 6,
   "metadata": {},
   "outputs": [
    {
     "data": {
      "text/html": [
       "<div>\n",
       "<style scoped>\n",
       "    .dataframe tbody tr th:only-of-type {\n",
       "        vertical-align: middle;\n",
       "    }\n",
       "\n",
       "    .dataframe tbody tr th {\n",
       "        vertical-align: top;\n",
       "    }\n",
       "\n",
       "    .dataframe thead th {\n",
       "        text-align: right;\n",
       "    }\n",
       "</style>\n",
       "<table border=\"1\" class=\"dataframe\">\n",
       "  <thead>\n",
       "    <tr style=\"text-align: right;\">\n",
       "      <th></th>\n",
       "      <th>SBS1</th>\n",
       "      <th>SBS2</th>\n",
       "      <th>SBS3</th>\n",
       "      <th>SBS5</th>\n",
       "      <th>SBS8</th>\n",
       "      <th>SBS13</th>\n",
       "      <th>SBS17b</th>\n",
       "      <th>SBS18</th>\n",
       "    </tr>\n",
       "    <tr>\n",
       "      <th>Type</th>\n",
       "      <th></th>\n",
       "      <th></th>\n",
       "      <th></th>\n",
       "      <th></th>\n",
       "      <th></th>\n",
       "      <th></th>\n",
       "      <th></th>\n",
       "      <th></th>\n",
       "    </tr>\n",
       "  </thead>\n",
       "  <tbody>\n",
       "    <tr>\n",
       "      <th>A[C&gt;A]A</th>\n",
       "      <td>0.000886</td>\n",
       "      <td>5.800168e-07</td>\n",
       "      <td>0.020808</td>\n",
       "      <td>0.011998</td>\n",
       "      <td>0.044098</td>\n",
       "      <td>0.001820</td>\n",
       "      <td>0.000608</td>\n",
       "      <td>0.051534</td>\n",
       "    </tr>\n",
       "    <tr>\n",
       "      <th>A[C&gt;A]C</th>\n",
       "      <td>0.002280</td>\n",
       "      <td>1.480043e-04</td>\n",
       "      <td>0.016507</td>\n",
       "      <td>0.009438</td>\n",
       "      <td>0.047798</td>\n",
       "      <td>0.000721</td>\n",
       "      <td>0.000129</td>\n",
       "      <td>0.015810</td>\n",
       "    </tr>\n",
       "    <tr>\n",
       "      <th>A[C&gt;A]G</th>\n",
       "      <td>0.000177</td>\n",
       "      <td>5.230151e-05</td>\n",
       "      <td>0.001751</td>\n",
       "      <td>0.001850</td>\n",
       "      <td>0.004620</td>\n",
       "      <td>0.000264</td>\n",
       "      <td>0.000058</td>\n",
       "      <td>0.002432</td>\n",
       "    </tr>\n",
       "    <tr>\n",
       "      <th>A[C&gt;A]T</th>\n",
       "      <td>0.001280</td>\n",
       "      <td>9.780282e-05</td>\n",
       "      <td>0.012205</td>\n",
       "      <td>0.006609</td>\n",
       "      <td>0.046998</td>\n",
       "      <td>0.000348</td>\n",
       "      <td>0.000456</td>\n",
       "      <td>0.021414</td>\n",
       "    </tr>\n",
       "    <tr>\n",
       "      <th>C[C&gt;A]A</th>\n",
       "      <td>0.000312</td>\n",
       "      <td>2.080060e-04</td>\n",
       "      <td>0.022509</td>\n",
       "      <td>0.007429</td>\n",
       "      <td>0.040098</td>\n",
       "      <td>0.001400</td>\n",
       "      <td>0.000271</td>\n",
       "      <td>0.074049</td>\n",
       "    </tr>\n",
       "  </tbody>\n",
       "</table>\n",
       "</div>"
      ],
      "text/plain": [
       "             SBS1          SBS2      SBS3      SBS5      SBS8     SBS13  \\\n",
       "Type                                                                      \n",
       "A[C>A]A  0.000886  5.800168e-07  0.020808  0.011998  0.044098  0.001820   \n",
       "A[C>A]C  0.002280  1.480043e-04  0.016507  0.009438  0.047798  0.000721   \n",
       "A[C>A]G  0.000177  5.230151e-05  0.001751  0.001850  0.004620  0.000264   \n",
       "A[C>A]T  0.001280  9.780282e-05  0.012205  0.006609  0.046998  0.000348   \n",
       "C[C>A]A  0.000312  2.080060e-04  0.022509  0.007429  0.040098  0.001400   \n",
       "\n",
       "           SBS17b     SBS18  \n",
       "Type                         \n",
       "A[C>A]A  0.000608  0.051534  \n",
       "A[C>A]C  0.000129  0.015810  \n",
       "A[C>A]G  0.000058  0.002432  \n",
       "A[C>A]T  0.000456  0.021414  \n",
       "C[C>A]A  0.000271  0.074049  "
      ]
     },
     "execution_count": 6,
     "metadata": {},
     "output_type": "execute_result"
    }
   ],
   "source": [
    "W_true.head()"
   ]
  },
  {
   "cell_type": "code",
   "execution_count": 7,
   "metadata": {},
   "outputs": [
    {
     "data": {
      "text/html": [
       "<div>\n",
       "<style scoped>\n",
       "    .dataframe tbody tr th:only-of-type {\n",
       "        vertical-align: middle;\n",
       "    }\n",
       "\n",
       "    .dataframe tbody tr th {\n",
       "        vertical-align: top;\n",
       "    }\n",
       "\n",
       "    .dataframe thead th {\n",
       "        text-align: right;\n",
       "    }\n",
       "</style>\n",
       "<table border=\"1\" class=\"dataframe\">\n",
       "  <thead>\n",
       "    <tr style=\"text-align: right;\">\n",
       "      <th></th>\n",
       "      <th>SP117956</th>\n",
       "      <th>SP117402</th>\n",
       "      <th>SP117378</th>\n",
       "      <th>SP117244</th>\n",
       "      <th>SP117079</th>\n",
       "      <th>SP117312</th>\n",
       "      <th>SP117108</th>\n",
       "      <th>SP117370</th>\n",
       "      <th>SP117850</th>\n",
       "      <th>SP117593</th>\n",
       "      <th>...</th>\n",
       "      <th>SP7291</th>\n",
       "      <th>SP7171</th>\n",
       "      <th>SP10563</th>\n",
       "      <th>SP12186</th>\n",
       "      <th>SP10944</th>\n",
       "      <th>SP6673</th>\n",
       "      <th>SP118012</th>\n",
       "      <th>SP124199</th>\n",
       "      <th>SP116365</th>\n",
       "      <th>SP2159</th>\n",
       "    </tr>\n",
       "  </thead>\n",
       "  <tbody>\n",
       "    <tr>\n",
       "      <th>SBS1</th>\n",
       "      <td>224</td>\n",
       "      <td>320</td>\n",
       "      <td>196</td>\n",
       "      <td>169</td>\n",
       "      <td>197</td>\n",
       "      <td>354</td>\n",
       "      <td>323</td>\n",
       "      <td>327</td>\n",
       "      <td>327</td>\n",
       "      <td>359</td>\n",
       "      <td>...</td>\n",
       "      <td>336</td>\n",
       "      <td>313</td>\n",
       "      <td>567</td>\n",
       "      <td>671</td>\n",
       "      <td>1089</td>\n",
       "      <td>0</td>\n",
       "      <td>256.000000</td>\n",
       "      <td>442.000000</td>\n",
       "      <td>394.316864</td>\n",
       "      <td>481.147835</td>\n",
       "    </tr>\n",
       "    <tr>\n",
       "      <th>SBS2</th>\n",
       "      <td>41</td>\n",
       "      <td>796</td>\n",
       "      <td>0</td>\n",
       "      <td>638</td>\n",
       "      <td>1126</td>\n",
       "      <td>198</td>\n",
       "      <td>0</td>\n",
       "      <td>115</td>\n",
       "      <td>328</td>\n",
       "      <td>35</td>\n",
       "      <td>...</td>\n",
       "      <td>84</td>\n",
       "      <td>480</td>\n",
       "      <td>1379</td>\n",
       "      <td>2883</td>\n",
       "      <td>3403</td>\n",
       "      <td>3888</td>\n",
       "      <td>175.599823</td>\n",
       "      <td>465.865977</td>\n",
       "      <td>401.000000</td>\n",
       "      <td>2650.000000</td>\n",
       "    </tr>\n",
       "    <tr>\n",
       "      <th>SBS3</th>\n",
       "      <td>0</td>\n",
       "      <td>0</td>\n",
       "      <td>0</td>\n",
       "      <td>0</td>\n",
       "      <td>0</td>\n",
       "      <td>0</td>\n",
       "      <td>0</td>\n",
       "      <td>0</td>\n",
       "      <td>0</td>\n",
       "      <td>0</td>\n",
       "      <td>...</td>\n",
       "      <td>0</td>\n",
       "      <td>0</td>\n",
       "      <td>0</td>\n",
       "      <td>0</td>\n",
       "      <td>3245</td>\n",
       "      <td>5526</td>\n",
       "      <td>0.000000</td>\n",
       "      <td>0.000000</td>\n",
       "      <td>3169.000000</td>\n",
       "      <td>0.000000</td>\n",
       "    </tr>\n",
       "    <tr>\n",
       "      <th>SBS5</th>\n",
       "      <td>1452</td>\n",
       "      <td>1634</td>\n",
       "      <td>1499</td>\n",
       "      <td>749</td>\n",
       "      <td>1051</td>\n",
       "      <td>1131</td>\n",
       "      <td>1017</td>\n",
       "      <td>945</td>\n",
       "      <td>1085</td>\n",
       "      <td>1180</td>\n",
       "      <td>...</td>\n",
       "      <td>1524</td>\n",
       "      <td>2056</td>\n",
       "      <td>2069</td>\n",
       "      <td>1783</td>\n",
       "      <td>3102</td>\n",
       "      <td>4308</td>\n",
       "      <td>1199.000000</td>\n",
       "      <td>2232.000000</td>\n",
       "      <td>1409.000000</td>\n",
       "      <td>1678.000000</td>\n",
       "    </tr>\n",
       "    <tr>\n",
       "      <th>SBS8</th>\n",
       "      <td>0</td>\n",
       "      <td>0</td>\n",
       "      <td>0</td>\n",
       "      <td>0</td>\n",
       "      <td>0</td>\n",
       "      <td>0</td>\n",
       "      <td>0</td>\n",
       "      <td>0</td>\n",
       "      <td>0</td>\n",
       "      <td>0</td>\n",
       "      <td>...</td>\n",
       "      <td>0</td>\n",
       "      <td>0</td>\n",
       "      <td>0</td>\n",
       "      <td>0</td>\n",
       "      <td>0</td>\n",
       "      <td>4430</td>\n",
       "      <td>0.000000</td>\n",
       "      <td>0.000000</td>\n",
       "      <td>0.000000</td>\n",
       "      <td>0.000000</td>\n",
       "    </tr>\n",
       "  </tbody>\n",
       "</table>\n",
       "<p>5 rows × 198 columns</p>\n",
       "</div>"
      ],
      "text/plain": [
       "      SP117956  SP117402  SP117378  SP117244  SP117079  SP117312  SP117108  \\\n",
       "SBS1       224       320       196       169       197       354       323   \n",
       "SBS2        41       796         0       638      1126       198         0   \n",
       "SBS3         0         0         0         0         0         0         0   \n",
       "SBS5      1452      1634      1499       749      1051      1131      1017   \n",
       "SBS8         0         0         0         0         0         0         0   \n",
       "\n",
       "      SP117370  SP117850  SP117593  ...  SP7291  SP7171  SP10563  SP12186  \\\n",
       "SBS1       327       327       359  ...     336     313      567      671   \n",
       "SBS2       115       328        35  ...      84     480     1379     2883   \n",
       "SBS3         0         0         0  ...       0       0        0        0   \n",
       "SBS5       945      1085      1180  ...    1524    2056     2069     1783   \n",
       "SBS8         0         0         0  ...       0       0        0        0   \n",
       "\n",
       "      SP10944  SP6673     SP118012     SP124199     SP116365       SP2159  \n",
       "SBS1     1089       0   256.000000   442.000000   394.316864   481.147835  \n",
       "SBS2     3403    3888   175.599823   465.865977   401.000000  2650.000000  \n",
       "SBS3     3245    5526     0.000000     0.000000  3169.000000     0.000000  \n",
       "SBS5     3102    4308  1199.000000  2232.000000  1409.000000  1678.000000  \n",
       "SBS8        0    4430     0.000000     0.000000     0.000000     0.000000  \n",
       "\n",
       "[5 rows x 198 columns]"
      ]
     },
     "execution_count": 7,
     "metadata": {},
     "output_type": "execute_result"
    }
   ],
   "source": [
    "H_true.head()"
   ]
  },
  {
   "cell_type": "code",
   "execution_count": null,
   "metadata": {},
   "outputs": [],
   "source": []
  },
  {
   "cell_type": "markdown",
   "metadata": {},
   "source": [
    "## The signature catalog "
   ]
  },
  {
   "cell_type": "markdown",
   "metadata": {},
   "source": [
    "MuSiCal provides several signature catalogs, listed below. "
   ]
  },
  {
   "cell_type": "code",
   "execution_count": 8,
   "metadata": {},
   "outputs": [
    {
     "data": {
      "text/plain": [
       "['COSMIC_v2_SBS_WGS',\n",
       " 'COSMIC_v3_SBS_WGS',\n",
       " 'COSMIC_v3_SBS_WES',\n",
       " 'COSMIC_v3p1_SBS_WGS',\n",
       " 'COSMIC_v3p2_SBS_WGS',\n",
       " 'COSMIC-MuSiCal_v3p2_SBS_WGS',\n",
       " 'COSMIC_v3p1_Indel',\n",
       " 'MuSiCal_v4_Indel_WGS']"
      ]
     },
     "execution_count": 8,
     "metadata": {},
     "output_type": "execute_result"
    }
   ],
   "source": [
    "musical.catalog.CATALOG_NAMES"
   ]
  },
  {
   "cell_type": "markdown",
   "metadata": {},
   "source": [
    "Let's first load the default SBS catalog, which is `COSMIC-MuSiCal_v3p2_SBS_WGS`. This catalog includes 78 COSMIC v3.2 SBS signatures and 6 SBS signatures additionally discovered by MuSiCal from PCAWG samples. Below, `catalog` is a catalog class object. Signatures in the catalog can be accessed through `catalog.W`. We see that there are in total 84 signatures. "
   ]
  },
  {
   "cell_type": "code",
   "execution_count": 9,
   "metadata": {},
   "outputs": [
    {
     "name": "stdout",
     "output_type": "stream",
     "text": [
      "84\n"
     ]
    }
   ],
   "source": [
    "catalog = musical.load_catalog()\n",
    "print(catalog.W.shape[1])"
   ]
  },
  {
   "cell_type": "markdown",
   "metadata": {},
   "source": [
    "Other catalogs can be loaded if a name is specified. For example, the following line loads the preferred indel signature catalog. \n",
    "```\n",
    "catalog = musical.load_catalog('MuSiCal_v4_Indel_WGS')\n",
    "```"
   ]
  },
  {
   "cell_type": "markdown",
   "metadata": {},
   "source": [
    "Directly refitting our dataset `X` against all 96 signatures in the catalog will introduce many false positives, leading to over-assignment. It is thus better to restrict our catalog to only those signatures found in the specific tumor type. \n",
    "\n",
    "You can select your own preferred set of signatures. But MuSiCal provides such information based on our PCAWG reanalysis. \n",
    "\n",
    "Below, we restrict our catalog to Breast.AdenoCA. Now, only 13 signatures remain in the catalog.  "
   ]
  },
  {
   "cell_type": "code",
   "execution_count": 10,
   "metadata": {},
   "outputs": [
    {
     "name": "stdout",
     "output_type": "stream",
     "text": [
      "13\n"
     ]
    }
   ],
   "source": [
    "catalog.restrict_catalog(tumor_type='Breast.AdenoCA')\n",
    "print(catalog.W.shape[1])"
   ]
  },
  {
   "cell_type": "markdown",
   "metadata": {},
   "source": [
    "A list of available tumor types are shown below. "
   ]
  },
  {
   "cell_type": "code",
   "execution_count": 11,
   "metadata": {},
   "outputs": [
    {
     "name": "stdout",
     "output_type": "stream",
     "text": [
      "['Biliary.AdenoCA', 'Bladder.TCC', 'Bone.Benign', 'Bone.Epith', 'Bone.Osteosarc', 'Breast.AdenoCA', 'Breast.DCIS', 'Breast.LobularCA', 'CNS.GBM', 'CNS.Medullo', 'CNS.Oligo', 'CNS.PiloAstro', 'Cervix.AdenoCA', 'Cervix.SCC', 'ColoRect.AdenoCA', 'Eso.AdenoCA', 'Head.SCC', 'Kidney.ChRCC', 'Kidney.RCC', 'Liver.HCC', 'Lung.AdenoCA', 'Lung.SCC', 'Lymph.BNHL', 'Lymph.CLL', 'Myeloid.AML', 'Myeloid.MDS', 'Myeloid.MPN', 'Ovary.AdenoCA', 'Panc.AdenoCA', 'Panc.Endocrine', 'Prost.AdenoCA', 'Skin.Melanoma', 'SoftTissue.Leiomyo', 'SoftTissue.Liposarc', 'Stomach.AdenoCA', 'Thy.AdenoCA', 'Uterus.AdenoCA']\n"
     ]
    }
   ],
   "source": [
    "print(catalog.show_tumor_type_options().tolist())"
   ]
  },
  {
   "cell_type": "markdown",
   "metadata": {},
   "source": [
    "We can further restrict our catalog by removing signatures associated with mismatch repair deficiency (MMRD) or polymerase proofreading deficiency (PPD) (e.g., samples with POLE-exo mutations), since we know that this simulated dataset does not contain MMRD or PPD samples. \n",
    "\n",
    "If you are not sure whether your dataset contains MMRD/PPD samples, you can first perform a refitting including the MMRD/PPD signatures, and then use the `musical.preprocessing` module to determine if there is a cluster of MMRD/PPD samples within your dataset. If so, you can separate these samples and perform refitting again for the two clusters of samples separately. Of course other methods can be used to determine MMRD/PPD samples, e.g., by looking for hypermutations, inspecting POLE-exo mutations, detecting microsatellite instabilities, etc. \n",
    "\n",
    "In this case, no additional signatures are removed, since none of the 13 breast-specific signatures are associated with MMRD or PPD. "
   ]
  },
  {
   "cell_type": "code",
   "execution_count": 12,
   "metadata": {},
   "outputs": [
    {
     "name": "stdout",
     "output_type": "stream",
     "text": [
      "13\n"
     ]
    }
   ],
   "source": [
    "catalog.restrict_catalog(tumor_type='Breast.AdenoCA', is_MMRD=False, is_PPD=False)\n",
    "print(catalog.W.shape[1])"
   ]
  },
  {
   "cell_type": "markdown",
   "metadata": {},
   "source": [
    "We can finally obtain signatures in the catalog. "
   ]
  },
  {
   "cell_type": "code",
   "execution_count": 13,
   "metadata": {},
   "outputs": [
    {
     "name": "stdout",
     "output_type": "stream",
     "text": [
      "['SBS1', 'SBS2', 'SBS3', 'SBS5', 'SBS8', 'SBS13', 'SBS17a', 'SBS17b', 'SBS18', 'SBS34', 'SBS41', 'SBS85', 'SBS100']\n"
     ]
    }
   ],
   "source": [
    "W = catalog.W\n",
    "print(W.columns.tolist())"
   ]
  },
  {
   "cell_type": "code",
   "execution_count": null,
   "metadata": {},
   "outputs": [],
   "source": []
  },
  {
   "cell_type": "markdown",
   "metadata": {},
   "source": [
    "# Refitting "
   ]
  },
  {
   "cell_type": "markdown",
   "metadata": {},
   "source": [
    "Refitting can be performed with `musical.SparseNNLS`."
   ]
  },
  {
   "cell_type": "code",
   "execution_count": null,
   "metadata": {},
   "outputs": [],
   "source": []
  },
  {
   "cell_type": "markdown",
   "metadata": {},
   "source": [
    "## Naive NNLS "
   ]
  },
  {
   "cell_type": "markdown",
   "metadata": {},
   "source": [
    "Let's first try naive NNLS. This can be achieved by setting `method` to `thresh_naive` and `thresh1` to `0`. The method `thresh_naive` simply performs NNLS, and then set signatures with relative exposures smaller than `thresh1` to have zero exposures.  "
   ]
  },
  {
   "cell_type": "code",
   "execution_count": 14,
   "metadata": {},
   "outputs": [
    {
     "data": {
      "text/plain": [
       "<musical.nnls_sparse.SparseNNLS at 0x16637f650>"
      ]
     },
     "execution_count": 14,
     "metadata": {},
     "output_type": "execute_result"
    }
   ],
   "source": [
    "model = musical.SparseNNLS(method='thresh_naive', thresh1=0)\n",
    "model.fit(X, W)"
   ]
  },
  {
   "cell_type": "markdown",
   "metadata": {},
   "source": [
    "The resulting exposure matrix can then be obtained via `model.H`."
   ]
  },
  {
   "cell_type": "code",
   "execution_count": 15,
   "metadata": {},
   "outputs": [
    {
     "data": {
      "text/html": [
       "<div>\n",
       "<style scoped>\n",
       "    .dataframe tbody tr th:only-of-type {\n",
       "        vertical-align: middle;\n",
       "    }\n",
       "\n",
       "    .dataframe tbody tr th {\n",
       "        vertical-align: top;\n",
       "    }\n",
       "\n",
       "    .dataframe thead th {\n",
       "        text-align: right;\n",
       "    }\n",
       "</style>\n",
       "<table border=\"1\" class=\"dataframe\">\n",
       "  <thead>\n",
       "    <tr style=\"text-align: right;\">\n",
       "      <th></th>\n",
       "      <th>SP117956</th>\n",
       "      <th>SP117402</th>\n",
       "      <th>SP117378</th>\n",
       "      <th>SP117244</th>\n",
       "      <th>SP117079</th>\n",
       "      <th>SP117312</th>\n",
       "      <th>SP117108</th>\n",
       "      <th>SP117370</th>\n",
       "      <th>SP117850</th>\n",
       "      <th>SP117593</th>\n",
       "      <th>...</th>\n",
       "      <th>SP7291</th>\n",
       "      <th>SP7171</th>\n",
       "      <th>SP10563</th>\n",
       "      <th>SP12186</th>\n",
       "      <th>SP10944</th>\n",
       "      <th>SP6673</th>\n",
       "      <th>SP118012</th>\n",
       "      <th>SP124199</th>\n",
       "      <th>SP116365</th>\n",
       "      <th>SP2159</th>\n",
       "    </tr>\n",
       "  </thead>\n",
       "  <tbody>\n",
       "    <tr>\n",
       "      <th>SBS1</th>\n",
       "      <td>215.725723</td>\n",
       "      <td>326.368392</td>\n",
       "      <td>176.571488</td>\n",
       "      <td>156.774433</td>\n",
       "      <td>235.668611</td>\n",
       "      <td>366.522626</td>\n",
       "      <td>330.854505</td>\n",
       "      <td>307.069205</td>\n",
       "      <td>322.116106</td>\n",
       "      <td>369.448259</td>\n",
       "      <td>...</td>\n",
       "      <td>315.938350</td>\n",
       "      <td>280.925789</td>\n",
       "      <td>551.549032</td>\n",
       "      <td>683.107865</td>\n",
       "      <td>1031.817207</td>\n",
       "      <td>32.066971</td>\n",
       "      <td>242.065929</td>\n",
       "      <td>466.741594</td>\n",
       "      <td>390.834755</td>\n",
       "      <td>487.062277</td>\n",
       "    </tr>\n",
       "    <tr>\n",
       "      <th>SBS2</th>\n",
       "      <td>48.095435</td>\n",
       "      <td>717.736836</td>\n",
       "      <td>3.023016</td>\n",
       "      <td>660.589665</td>\n",
       "      <td>1130.039751</td>\n",
       "      <td>166.450301</td>\n",
       "      <td>16.689622</td>\n",
       "      <td>137.370047</td>\n",
       "      <td>358.945498</td>\n",
       "      <td>29.233500</td>\n",
       "      <td>...</td>\n",
       "      <td>93.176691</td>\n",
       "      <td>528.630936</td>\n",
       "      <td>1364.214132</td>\n",
       "      <td>2885.365389</td>\n",
       "      <td>3543.940910</td>\n",
       "      <td>3859.651861</td>\n",
       "      <td>164.181522</td>\n",
       "      <td>486.639706</td>\n",
       "      <td>403.570479</td>\n",
       "      <td>2684.834771</td>\n",
       "    </tr>\n",
       "    <tr>\n",
       "      <th>SBS3</th>\n",
       "      <td>0.000000</td>\n",
       "      <td>0.000000</td>\n",
       "      <td>0.472962</td>\n",
       "      <td>0.000000</td>\n",
       "      <td>0.000000</td>\n",
       "      <td>31.424048</td>\n",
       "      <td>65.900505</td>\n",
       "      <td>1.987732</td>\n",
       "      <td>0.000000</td>\n",
       "      <td>0.000000</td>\n",
       "      <td>...</td>\n",
       "      <td>0.000000</td>\n",
       "      <td>0.000000</td>\n",
       "      <td>0.000000</td>\n",
       "      <td>0.000000</td>\n",
       "      <td>3192.287256</td>\n",
       "      <td>5678.834398</td>\n",
       "      <td>26.787520</td>\n",
       "      <td>0.000000</td>\n",
       "      <td>2913.017332</td>\n",
       "      <td>0.000000</td>\n",
       "    </tr>\n",
       "    <tr>\n",
       "      <th>SBS5</th>\n",
       "      <td>1470.298457</td>\n",
       "      <td>1666.628152</td>\n",
       "      <td>1502.627835</td>\n",
       "      <td>771.903194</td>\n",
       "      <td>1014.513359</td>\n",
       "      <td>1066.033016</td>\n",
       "      <td>819.407744</td>\n",
       "      <td>917.564784</td>\n",
       "      <td>1091.272137</td>\n",
       "      <td>1190.005305</td>\n",
       "      <td>...</td>\n",
       "      <td>1534.556389</td>\n",
       "      <td>2057.777952</td>\n",
       "      <td>2132.122638</td>\n",
       "      <td>1662.880907</td>\n",
       "      <td>2913.377932</td>\n",
       "      <td>4213.626525</td>\n",
       "      <td>1207.822115</td>\n",
       "      <td>2167.345303</td>\n",
       "      <td>1604.143052</td>\n",
       "      <td>1552.511083</td>\n",
       "    </tr>\n",
       "    <tr>\n",
       "      <th>SBS8</th>\n",
       "      <td>10.328492</td>\n",
       "      <td>30.905100</td>\n",
       "      <td>9.600728</td>\n",
       "      <td>0.000000</td>\n",
       "      <td>0.000000</td>\n",
       "      <td>0.000000</td>\n",
       "      <td>0.000000</td>\n",
       "      <td>0.000000</td>\n",
       "      <td>0.000000</td>\n",
       "      <td>0.000000</td>\n",
       "      <td>...</td>\n",
       "      <td>26.944969</td>\n",
       "      <td>0.000000</td>\n",
       "      <td>0.000000</td>\n",
       "      <td>0.000000</td>\n",
       "      <td>122.545513</td>\n",
       "      <td>4363.085067</td>\n",
       "      <td>0.000000</td>\n",
       "      <td>0.000000</td>\n",
       "      <td>22.101555</td>\n",
       "      <td>0.000000</td>\n",
       "    </tr>\n",
       "  </tbody>\n",
       "</table>\n",
       "<p>5 rows × 198 columns</p>\n",
       "</div>"
      ],
      "text/plain": [
       "         SP117956     SP117402     SP117378    SP117244     SP117079  \\\n",
       "SBS1   215.725723   326.368392   176.571488  156.774433   235.668611   \n",
       "SBS2    48.095435   717.736836     3.023016  660.589665  1130.039751   \n",
       "SBS3     0.000000     0.000000     0.472962    0.000000     0.000000   \n",
       "SBS5  1470.298457  1666.628152  1502.627835  771.903194  1014.513359   \n",
       "SBS8    10.328492    30.905100     9.600728    0.000000     0.000000   \n",
       "\n",
       "         SP117312    SP117108    SP117370     SP117850     SP117593  ...  \\\n",
       "SBS1   366.522626  330.854505  307.069205   322.116106   369.448259  ...   \n",
       "SBS2   166.450301   16.689622  137.370047   358.945498    29.233500  ...   \n",
       "SBS3    31.424048   65.900505    1.987732     0.000000     0.000000  ...   \n",
       "SBS5  1066.033016  819.407744  917.564784  1091.272137  1190.005305  ...   \n",
       "SBS8     0.000000    0.000000    0.000000     0.000000     0.000000  ...   \n",
       "\n",
       "           SP7291       SP7171      SP10563      SP12186      SP10944  \\\n",
       "SBS1   315.938350   280.925789   551.549032   683.107865  1031.817207   \n",
       "SBS2    93.176691   528.630936  1364.214132  2885.365389  3543.940910   \n",
       "SBS3     0.000000     0.000000     0.000000     0.000000  3192.287256   \n",
       "SBS5  1534.556389  2057.777952  2132.122638  1662.880907  2913.377932   \n",
       "SBS8    26.944969     0.000000     0.000000     0.000000   122.545513   \n",
       "\n",
       "           SP6673     SP118012     SP124199     SP116365       SP2159  \n",
       "SBS1    32.066971   242.065929   466.741594   390.834755   487.062277  \n",
       "SBS2  3859.651861   164.181522   486.639706   403.570479  2684.834771  \n",
       "SBS3  5678.834398    26.787520     0.000000  2913.017332     0.000000  \n",
       "SBS5  4213.626525  1207.822115  2167.345303  1604.143052  1552.511083  \n",
       "SBS8  4363.085067     0.000000     0.000000    22.101555     0.000000  \n",
       "\n",
       "[5 rows x 198 columns]"
      ]
     },
     "execution_count": 15,
     "metadata": {},
     "output_type": "execute_result"
    }
   ],
   "source": [
    "model.H.head()"
   ]
  },
  {
   "cell_type": "markdown",
   "metadata": {},
   "source": [
    "We can compare the obtained exposure matrix with the true one to evaluate the refitting result with naive NNLS. To do that, let's first reindex `H_true` so that it has the same signatures as in `model.H`. "
   ]
  },
  {
   "cell_type": "code",
   "execution_count": 16,
   "metadata": {},
   "outputs": [],
   "source": [
    "H_true_reindexed = H_true.reindex(model.H.index).fillna(0)"
   ]
  },
  {
   "cell_type": "markdown",
   "metadata": {},
   "source": [
    "Then, we calculate some statistics by comparing nonzero entries in `H_true_reindexed` and those in `model.H`"
   ]
  },
  {
   "cell_type": "code",
   "execution_count": 17,
   "metadata": {},
   "outputs": [
    {
     "name": "stdout",
     "output_type": "stream",
     "text": [
      "972 601 1000 1 973 1601\n"
     ]
    }
   ],
   "source": [
    "TP = np.logical_and(H_true_reindexed > 0, model.H > 0).sum().sum()\n",
    "FP = np.logical_and(H_true_reindexed == 0, model.H > 0).sum().sum()\n",
    "TN = np.logical_and(H_true_reindexed == 0, model.H == 0).sum().sum()\n",
    "FN = np.logical_and(H_true_reindexed > 0, model.H == 0).sum().sum()\n",
    "P = TP + FN\n",
    "N = TN + FP\n",
    "print(TP, FP, TN, FN, P, N)"
   ]
  },
  {
   "cell_type": "code",
   "execution_count": 18,
   "metadata": {},
   "outputs": [
    {
     "name": "stdout",
     "output_type": "stream",
     "text": [
      "Sensitivity = 0.999\n",
      "False positive rate = 0.375\n"
     ]
    }
   ],
   "source": [
    "print('Sensitivity = %.3g' % (TP/P))\n",
    "print('False positive rate = %.3g' % (FP/N))"
   ]
  },
  {
   "cell_type": "markdown",
   "metadata": {},
   "source": [
    "We see that naive NNLS leads to a high false positive rate, i.e., over-assignment. "
   ]
  },
  {
   "cell_type": "code",
   "execution_count": null,
   "metadata": {},
   "outputs": [],
   "source": []
  },
  {
   "cell_type": "markdown",
   "metadata": {},
   "source": [
    "## Likelihood-based sparse NNLS "
   ]
  },
  {
   "cell_type": "markdown",
   "metadata": {},
   "source": [
    "MuSiCal implements a likelihood-based sparse NNLS for refitting. It can be achieved by setting `method` to `likelihood_bidirectional` in `musical.SparseNNLS`. The small nonnegative likelihood threshold `thresh1` controls the sparsity level. When `thresh1` is 0, the result is almost equivalent to naive NNLS. Stronger sparsity will be induced when `thresh1` is larger. \n",
    "\n",
    "In the full pipeline including *de novo* signature discovery followed by matching and refitting, this likelihood threshold will be automatically chosen by the *in silico* validation module. \n",
    "\n",
    "Here, let's use a reasonable threshold 0.001. "
   ]
  },
  {
   "cell_type": "code",
   "execution_count": 19,
   "metadata": {},
   "outputs": [
    {
     "data": {
      "text/plain": [
       "<musical.nnls_sparse.SparseNNLS at 0x111d6fb10>"
      ]
     },
     "execution_count": 19,
     "metadata": {},
     "output_type": "execute_result"
    }
   ],
   "source": [
    "model = musical.SparseNNLS(method='likelihood_bidirectional', thresh1=0.001)\n",
    "model.fit(X, W)"
   ]
  },
  {
   "cell_type": "code",
   "execution_count": 20,
   "metadata": {},
   "outputs": [
    {
     "data": {
      "text/html": [
       "<div>\n",
       "<style scoped>\n",
       "    .dataframe tbody tr th:only-of-type {\n",
       "        vertical-align: middle;\n",
       "    }\n",
       "\n",
       "    .dataframe tbody tr th {\n",
       "        vertical-align: top;\n",
       "    }\n",
       "\n",
       "    .dataframe thead th {\n",
       "        text-align: right;\n",
       "    }\n",
       "</style>\n",
       "<table border=\"1\" class=\"dataframe\">\n",
       "  <thead>\n",
       "    <tr style=\"text-align: right;\">\n",
       "      <th></th>\n",
       "      <th>SP117956</th>\n",
       "      <th>SP117402</th>\n",
       "      <th>SP117378</th>\n",
       "      <th>SP117244</th>\n",
       "      <th>SP117079</th>\n",
       "      <th>SP117312</th>\n",
       "      <th>SP117108</th>\n",
       "      <th>SP117370</th>\n",
       "      <th>SP117850</th>\n",
       "      <th>SP117593</th>\n",
       "      <th>...</th>\n",
       "      <th>SP7291</th>\n",
       "      <th>SP7171</th>\n",
       "      <th>SP10563</th>\n",
       "      <th>SP12186</th>\n",
       "      <th>SP10944</th>\n",
       "      <th>SP6673</th>\n",
       "      <th>SP118012</th>\n",
       "      <th>SP124199</th>\n",
       "      <th>SP116365</th>\n",
       "      <th>SP2159</th>\n",
       "    </tr>\n",
       "  </thead>\n",
       "  <tbody>\n",
       "    <tr>\n",
       "      <th>SBS1</th>\n",
       "      <td>215.661266</td>\n",
       "      <td>325.669303</td>\n",
       "      <td>175.872104</td>\n",
       "      <td>156.234461</td>\n",
       "      <td>235.587259</td>\n",
       "      <td>365.690288</td>\n",
       "      <td>331.234329</td>\n",
       "      <td>306.740894</td>\n",
       "      <td>321.645670</td>\n",
       "      <td>369.460609</td>\n",
       "      <td>...</td>\n",
       "      <td>314.656031</td>\n",
       "      <td>280.497345</td>\n",
       "      <td>551.549032</td>\n",
       "      <td>682.556261</td>\n",
       "      <td>1033.853054</td>\n",
       "      <td>0.000000</td>\n",
       "      <td>240.965152</td>\n",
       "      <td>464.779522</td>\n",
       "      <td>390.340174</td>\n",
       "      <td>484.176909</td>\n",
       "    </tr>\n",
       "    <tr>\n",
       "      <th>SBS2</th>\n",
       "      <td>47.868984</td>\n",
       "      <td>717.239114</td>\n",
       "      <td>0.000000</td>\n",
       "      <td>661.147193</td>\n",
       "      <td>1129.882934</td>\n",
       "      <td>165.490219</td>\n",
       "      <td>18.605649</td>\n",
       "      <td>136.633595</td>\n",
       "      <td>360.652671</td>\n",
       "      <td>28.705664</td>\n",
       "      <td>...</td>\n",
       "      <td>93.574489</td>\n",
       "      <td>529.471274</td>\n",
       "      <td>1364.214132</td>\n",
       "      <td>2884.409335</td>\n",
       "      <td>3544.846685</td>\n",
       "      <td>3860.285108</td>\n",
       "      <td>164.158870</td>\n",
       "      <td>487.350435</td>\n",
       "      <td>403.402718</td>\n",
       "      <td>2684.789954</td>\n",
       "    </tr>\n",
       "    <tr>\n",
       "      <th>SBS3</th>\n",
       "      <td>0.000000</td>\n",
       "      <td>0.000000</td>\n",
       "      <td>0.000000</td>\n",
       "      <td>0.000000</td>\n",
       "      <td>0.000000</td>\n",
       "      <td>0.000000</td>\n",
       "      <td>98.639600</td>\n",
       "      <td>0.000000</td>\n",
       "      <td>0.000000</td>\n",
       "      <td>0.000000</td>\n",
       "      <td>...</td>\n",
       "      <td>0.000000</td>\n",
       "      <td>0.000000</td>\n",
       "      <td>0.000000</td>\n",
       "      <td>0.000000</td>\n",
       "      <td>3366.398807</td>\n",
       "      <td>5648.032123</td>\n",
       "      <td>0.000000</td>\n",
       "      <td>0.000000</td>\n",
       "      <td>2957.535112</td>\n",
       "      <td>0.000000</td>\n",
       "    </tr>\n",
       "    <tr>\n",
       "      <th>SBS5</th>\n",
       "      <td>1478.696186</td>\n",
       "      <td>1703.770139</td>\n",
       "      <td>1524.889234</td>\n",
       "      <td>785.808682</td>\n",
       "      <td>1020.451923</td>\n",
       "      <td>1113.493340</td>\n",
       "      <td>840.451714</td>\n",
       "      <td>937.412869</td>\n",
       "      <td>1107.448645</td>\n",
       "      <td>1223.388672</td>\n",
       "      <td>...</td>\n",
       "      <td>1558.273432</td>\n",
       "      <td>2072.365755</td>\n",
       "      <td>2132.122638</td>\n",
       "      <td>1724.551709</td>\n",
       "      <td>2863.833900</td>\n",
       "      <td>4280.832566</td>\n",
       "      <td>1235.186602</td>\n",
       "      <td>2224.753489</td>\n",
       "      <td>1613.464299</td>\n",
       "      <td>1625.385047</td>\n",
       "    </tr>\n",
       "    <tr>\n",
       "      <th>SBS8</th>\n",
       "      <td>0.000000</td>\n",
       "      <td>0.000000</td>\n",
       "      <td>0.000000</td>\n",
       "      <td>0.000000</td>\n",
       "      <td>0.000000</td>\n",
       "      <td>0.000000</td>\n",
       "      <td>0.000000</td>\n",
       "      <td>0.000000</td>\n",
       "      <td>0.000000</td>\n",
       "      <td>0.000000</td>\n",
       "      <td>...</td>\n",
       "      <td>0.000000</td>\n",
       "      <td>0.000000</td>\n",
       "      <td>0.000000</td>\n",
       "      <td>0.000000</td>\n",
       "      <td>0.000000</td>\n",
       "      <td>4381.726549</td>\n",
       "      <td>0.000000</td>\n",
       "      <td>0.000000</td>\n",
       "      <td>0.000000</td>\n",
       "      <td>0.000000</td>\n",
       "    </tr>\n",
       "  </tbody>\n",
       "</table>\n",
       "<p>5 rows × 198 columns</p>\n",
       "</div>"
      ],
      "text/plain": [
       "         SP117956     SP117402     SP117378    SP117244     SP117079  \\\n",
       "SBS1   215.661266   325.669303   175.872104  156.234461   235.587259   \n",
       "SBS2    47.868984   717.239114     0.000000  661.147193  1129.882934   \n",
       "SBS3     0.000000     0.000000     0.000000    0.000000     0.000000   \n",
       "SBS5  1478.696186  1703.770139  1524.889234  785.808682  1020.451923   \n",
       "SBS8     0.000000     0.000000     0.000000    0.000000     0.000000   \n",
       "\n",
       "         SP117312    SP117108    SP117370     SP117850     SP117593  ...  \\\n",
       "SBS1   365.690288  331.234329  306.740894   321.645670   369.460609  ...   \n",
       "SBS2   165.490219   18.605649  136.633595   360.652671    28.705664  ...   \n",
       "SBS3     0.000000   98.639600    0.000000     0.000000     0.000000  ...   \n",
       "SBS5  1113.493340  840.451714  937.412869  1107.448645  1223.388672  ...   \n",
       "SBS8     0.000000    0.000000    0.000000     0.000000     0.000000  ...   \n",
       "\n",
       "           SP7291       SP7171      SP10563      SP12186      SP10944  \\\n",
       "SBS1   314.656031   280.497345   551.549032   682.556261  1033.853054   \n",
       "SBS2    93.574489   529.471274  1364.214132  2884.409335  3544.846685   \n",
       "SBS3     0.000000     0.000000     0.000000     0.000000  3366.398807   \n",
       "SBS5  1558.273432  2072.365755  2132.122638  1724.551709  2863.833900   \n",
       "SBS8     0.000000     0.000000     0.000000     0.000000     0.000000   \n",
       "\n",
       "           SP6673     SP118012     SP124199     SP116365       SP2159  \n",
       "SBS1     0.000000   240.965152   464.779522   390.340174   484.176909  \n",
       "SBS2  3860.285108   164.158870   487.350435   403.402718  2684.789954  \n",
       "SBS3  5648.032123     0.000000     0.000000  2957.535112     0.000000  \n",
       "SBS5  4280.832566  1235.186602  2224.753489  1613.464299  1625.385047  \n",
       "SBS8  4381.726549     0.000000     0.000000     0.000000     0.000000  \n",
       "\n",
       "[5 rows x 198 columns]"
      ]
     },
     "execution_count": 20,
     "metadata": {},
     "output_type": "execute_result"
    }
   ],
   "source": [
    "model.H.head()"
   ]
  },
  {
   "cell_type": "markdown",
   "metadata": {},
   "source": [
    "Again, we can compare to `H_true` to evaluate the result."
   ]
  },
  {
   "cell_type": "code",
   "execution_count": 21,
   "metadata": {},
   "outputs": [],
   "source": [
    "H_true_reindexed = H_true.reindex(model.H.index).fillna(0)"
   ]
  },
  {
   "cell_type": "code",
   "execution_count": 22,
   "metadata": {},
   "outputs": [
    {
     "name": "stdout",
     "output_type": "stream",
     "text": [
      "967 13 1588 6 973 1601\n"
     ]
    }
   ],
   "source": [
    "TP = np.logical_and(H_true_reindexed > 0, model.H > 0).sum().sum()\n",
    "FP = np.logical_and(H_true_reindexed == 0, model.H > 0).sum().sum()\n",
    "TN = np.logical_and(H_true_reindexed == 0, model.H == 0).sum().sum()\n",
    "FN = np.logical_and(H_true_reindexed > 0, model.H == 0).sum().sum()\n",
    "P = TP + FN\n",
    "N = TN + FP\n",
    "print(TP, FP, TN, FN, P, N)"
   ]
  },
  {
   "cell_type": "code",
   "execution_count": 23,
   "metadata": {},
   "outputs": [
    {
     "name": "stdout",
     "output_type": "stream",
     "text": [
      "Sensitivity = 0.994\n",
      "False positive rate = 0.00812\n"
     ]
    }
   ],
   "source": [
    "print('Sensitivity = %.3g' % (TP/P))\n",
    "print('False positive rate = %.3g' % (FP/N))"
   ]
  },
  {
   "cell_type": "markdown",
   "metadata": {},
   "source": [
    "We see that the false positive rate is dramatically reduced, while the sensitivity is still reasonably high. "
   ]
  },
  {
   "cell_type": "code",
   "execution_count": null,
   "metadata": {},
   "outputs": [],
   "source": []
  },
  {
   "cell_type": "markdown",
   "metadata": {},
   "source": [
    "# Comments "
   ]
  },
  {
   "cell_type": "markdown",
   "metadata": {},
   "source": [
    "1. Matching *de novo* signatures to the catalog can be performed in the same way as refitting, except that in matching, `X` will be the matrix of signatures to be matched. See Methods in our paper for the reasoning behind this. \n",
    "\n",
    "2. The `SparseNNLS` object provides many other attributes that are convenient. For example, `model.X_reconstructed` is the reconstructed mutation count matrix. `model.cos_similarities` is the cosine similarities between original data and the reconstructed spectra. `model.H_reduced` is the reduced exposure matrix, i.e., after removing signatures in the catalog that receive zero exposures in all samples. \n",
    "\n",
    "3. Associated signatures (e.g., APOBEC signatures SBS2 and SBS13) can be forced to co-occur using the option `indices_associated_sigs` in `SparseNNLS`. "
   ]
  },
  {
   "cell_type": "code",
   "execution_count": null,
   "metadata": {},
   "outputs": [],
   "source": []
  },
  {
   "cell_type": "code",
   "execution_count": null,
   "metadata": {},
   "outputs": [],
   "source": []
  },
  {
   "cell_type": "code",
   "execution_count": null,
   "metadata": {},
   "outputs": [],
   "source": []
  },
  {
   "cell_type": "code",
   "execution_count": null,
   "metadata": {},
   "outputs": [],
   "source": []
  }
 ],
 "metadata": {
  "kernelspec": {
   "display_name": "python37_musical",
   "language": "python",
   "name": "python37_musical"
  },
  "language_info": {
   "codemirror_mode": {
    "name": "ipython",
    "version": 3
   },
   "file_extension": ".py",
   "mimetype": "text/x-python",
   "name": "python",
   "nbconvert_exporter": "python",
   "pygments_lexer": "ipython3",
   "version": "3.7.12"
  },
  "latex_envs": {
   "LaTeX_envs_menu_present": true,
   "autoclose": false,
   "autocomplete": true,
   "bibliofile": "biblio.bib",
   "cite_by": "apalike",
   "current_citInitial": 1,
   "eqLabelWithNumbers": true,
   "eqNumInitial": 1,
   "hotkeys": {
    "equation": "Ctrl-E",
    "itemize": "Ctrl-I"
   },
   "labels_anchors": false,
   "latex_user_defs": false,
   "report_style_numbering": false,
   "user_envs_cfg": false
  },
  "toc": {
   "base_numbering": 1,
   "nav_menu": {},
   "number_sections": true,
   "sideBar": true,
   "skip_h1_title": false,
   "title_cell": "Table of Contents",
   "title_sidebar": "Contents",
   "toc_cell": false,
   "toc_position": {},
   "toc_section_display": true,
   "toc_window_display": true
  }
 },
 "nbformat": 4,
 "nbformat_minor": 2
}
