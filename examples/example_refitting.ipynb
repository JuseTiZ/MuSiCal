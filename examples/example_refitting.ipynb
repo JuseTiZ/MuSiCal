{
 "cells": [
  {
   "cell_type": "markdown",
   "metadata": {},
   "source": [
    "Below we demonstrate how to refit a signature catalog to an input matrix. You can use the code below to predict signature exposures without de novo discovery or you can use it after the de novo discovery and matching to the catalog.  "
   ]
  },
  {
   "cell_type": "code",
   "execution_count": 94,
   "metadata": {
    "scrolled": true
   },
   "outputs": [],
   "source": [
    "import musical\n",
    "import pickle\n",
    "import numpy as np\n",
    "import pandas as pd\n",
    "\n",
    "from musical.utils import get_sig_indices_associated\n",
    "from musical.refit import refit_matrix\n"
   ]
  },
  {
   "cell_type": "markdown",
   "metadata": {},
   "source": [
    "Load input X matrix, matrix containing spectrum of mutations per sample. In this example we are loading a data frame of dimensions nsample x 96 dimensional because we will analyze the SBS spectrum.\n",
    "The dataset is a simulated cohort with 8 selected signatures (SBS1, 2, 3, 5, 8, 13, 17b, 18) generated based on their estimated occurence in PCAWG breast cancer data some other minor signatures are removed in the simulations for this exercise. The truth info is stored in samples below which we will be comparing the refitting results to.\n",
    "\n",
    "For refitting your own dataset you will only need the X and not the H_truth, W_truth and signatures_truth."
   ]
  },
  {
   "cell_type": "code",
   "execution_count": 131,
   "metadata": {},
   "outputs": [],
   "source": [
    "X = pd.read_csv('data/simulated/X_simul_8sig.csv')\n",
    "H_truth = pd.read_csv('data/simulated/H_s_simul_8sig.csv')\n",
    "W_truth = pd.read_csv('data/simulated/W_s_simul_8sig.csv')\n",
    "signatures_truth = np.array(W_truth.columns)\n",
    "X = np.array(X)\n",
    "H_truth = np.array(H_truth)\n",
    "W_truth = np.array(W_truth)"
   ]
  },
  {
   "cell_type": "markdown",
   "metadata": {},
   "source": [
    "Load the COSMIC-MuSiCal SBS catalog. Default settings load 'COSMIC-MuSiCal_v3p2_SBS_WGS', specify name = <CATALOG_NAME> if you want to use a different catalog."
   ]
  },
  {
   "cell_type": "code",
   "execution_count": 95,
   "metadata": {},
   "outputs": [],
   "source": [
    "catalog = musical.load_catalog()  "
   ]
  },
  {
   "cell_type": "markdown",
   "metadata": {},
   "source": [
    "For indels, replace the  line above with"
   ]
  },
  {
   "cell_type": "code",
   "execution_count": null,
   "metadata": {},
   "outputs": [],
   "source": [
    "# catalog = musical.load_catalog('MuSiCal_Indel_v4_WGS')"
   ]
  },
  {
   "cell_type": "markdown",
   "metadata": {},
   "source": [
    "It is advised to reduce false positive rate to restrict your signatures to those found in the specific tumor type:"
   ]
  },
  {
   "cell_type": "code",
   "execution_count": 46,
   "metadata": {},
   "outputs": [],
   "source": [
    "catalog.restrict_catalog(tumor_type = 'Breast.AdenoCA')"
   ]
  },
  {
   "cell_type": "markdown",
   "metadata": {},
   "source": [
    "Remove mismatch repair deficiency (MMRD) or POLE-exo mutation related signatures if you know your samples do not have these phenotypes. You can determine whether or not your tumor is MMRD using other methods or simply doing a refitting with all the signatures and if the exposure of MMRD/POLE-exo signatures are small remove those the signatures and repeat the refitting"
   ]
  },
  {
   "cell_type": "code",
   "execution_count": 47,
   "metadata": {},
   "outputs": [],
   "source": [
    "catalog.restrict_catalog(tumor_type = 'Breast.AdenoCA', is_MMRD = False, is_PPD = False)"
   ]
  },
  {
   "cell_type": "markdown",
   "metadata": {},
   "source": [
    "You can see the available tumor types by doing:"
   ]
  },
  {
   "cell_type": "code",
   "execution_count": 97,
   "metadata": {},
   "outputs": [
    {
     "ename": "AttributeError",
     "evalue": "'Catalog' object has no attribute 'show_tumor_type_options'",
     "output_type": "error",
     "traceback": [
      "\u001b[0;31m---------------------------------------------------------------------------\u001b[0m",
      "\u001b[0;31mAttributeError\u001b[0m                            Traceback (most recent call last)",
      "\u001b[0;32m<ipython-input-97-f0124a771955>\u001b[0m in \u001b[0;36m<module>\u001b[0;34m\u001b[0m\n\u001b[0;32m----> 1\u001b[0;31m \u001b[0mcatalog\u001b[0m\u001b[0;34m.\u001b[0m\u001b[0mshow_tumor_type_options\u001b[0m\u001b[0;34m(\u001b[0m\u001b[0;34m)\u001b[0m\u001b[0;34m\u001b[0m\u001b[0;34m\u001b[0m\u001b[0m\n\u001b[0m",
      "\u001b[0;31mAttributeError\u001b[0m: 'Catalog' object has no attribute 'show_tumor_type_options'"
     ]
    }
   ],
   "source": [
    "catalog.show_tumor_type_options()"
   ]
  },
  {
   "cell_type": "markdown",
   "metadata": {},
   "source": [
    "To obtain the signature matrix, signature names from the catalog and to see which signatures are selected from the catalog do:"
   ]
  },
  {
   "cell_type": "code",
   "execution_count": 49,
   "metadata": {},
   "outputs": [
    {
     "name": "stdout",
     "output_type": "stream",
     "text": [
      "['SBS1' 'SBS2' 'SBS3' 'SBS5' 'SBS8' 'SBS13' 'SBS17a' 'SBS17b' 'SBS18'\n",
      " 'SBS34' 'SBS41' 'SBS85' 'SBS100']\n"
     ]
    }
   ],
   "source": [
    "W_catalog = np.array(catalog.W)\n",
    "signatures = np.array(catalog.signatures)\n",
    "print(signatures) "
   ]
  },
  {
   "cell_type": "markdown",
   "metadata": {},
   "source": [
    "Let's first try simple NNLS"
   ]
  },
  {
   "cell_type": "code",
   "execution_count": 74,
   "metadata": {},
   "outputs": [],
   "source": [
    "import scipy as sp\n",
    "H_s = []\n",
    "for x in X.T:\n",
    "    h, _ = sp.optimize.nnls(W_catalog, x)\n",
    "    H_s.append(h)\n",
    "H_s = np.transpose(np.array(H_s))    "
   ]
  },
  {
   "cell_type": "markdown",
   "metadata": {},
   "source": [
    "Refit using the default 'likelihood_bidirectional' method to introduce sparsity but set thresh1 to be a small value allowing more signatures to be fitted "
   ]
  },
  {
   "cell_type": "code",
   "execution_count": 197,
   "metadata": {},
   "outputs": [],
   "source": [
    "H_s, reco_error = refit_matrix(X, W = W_catalog, thresh1 = 0.001) #, indices_associated_sigs = indices_associated_sigs) #, signature\\"
   ]
  },
  {
   "cell_type": "code",
   "execution_count": 77,
   "metadata": {},
   "outputs": [
    {
     "data": {
      "text/plain": [
       "array(['SBS1', 'SBS2', 'SBS3', 'SBS5', 'SBS8', 'SBS13', 'SBS17b', 'SBS18',\n",
       "       'SBS34', 'SBS41', 'SBS85'], dtype='<U6')"
      ]
     },
     "execution_count": 77,
     "metadata": {},
     "output_type": "execute_result"
    }
   ],
   "source": [
    "signatures[np.where(np.sum(H_s, axis = 1) > 0)[0]]"
   ]
  },
  {
   "cell_type": "markdown",
   "metadata": {},
   "source": [
    "try a larger thresh1 value introducing more strict requirement"
   ]
  },
  {
   "cell_type": "code",
   "execution_count": 119,
   "metadata": {},
   "outputs": [],
   "source": [
    "H_s, reco_error = refit_matrix(X, W = W_catalog, thresh1 = 0.01) #, indices_associated_sigs = indices_associated_sigs) #, signature\\"
   ]
  },
  {
   "cell_type": "code",
   "execution_count": 198,
   "metadata": {},
   "outputs": [],
   "source": [
    "signatures_assigned = signatures[np.where(np.sum(H_s, axis = 1) > 0)[0]]"
   ]
  },
  {
   "cell_type": "markdown",
   "metadata": {},
   "source": [
    "The signatures agree with the input signatures with 0.01 value and you can calculate whether the correct samples are assigned non-negative exposures by comparing to the input H_matrix"
   ]
  },
  {
   "cell_type": "code",
   "execution_count": 204,
   "metadata": {},
   "outputs": [
    {
     "name": "stdout",
     "output_type": "stream",
     "text": [
      "signatures are of different length\n"
     ]
    }
   ],
   "source": [
    "H_s = H_s[np.where(np.sum(H_s, axis = 1) > 0)[0],:]\n",
    "if(signatures_truth.size == signatures_assigned.size):\n",
    "    if(np.sum(signatures_truth != signatures_assigned) == 0):\n",
    "        per_sample_agreement = (H_s > 0) == (H_truth > 0)\n",
    "    else:\n",
    "        print('signatures are not identical')\n",
    "else:\n",
    "    print('signatures are of different length')"
   ]
  },
  {
   "cell_type": "markdown",
   "metadata": {},
   "source": [
    "If the H_s has different dimensions than H_truth because of false positive signatures \n",
    "first find the indices of the true positive signatures and then compare the elements"
   ]
  },
  {
   "cell_type": "code",
   "execution_count": 205,
   "metadata": {},
   "outputs": [],
   "source": [
    "inds = [index for index,item in enumerate(signatures_assigned) if item in signatures_truth]\n",
    "inds_truth = [index for index,item in enumerate(signatures_truth) if item in signatures_assigned[inds]]\n",
    "\n",
    "inds_unmatched = [index for index,item in enumerate(signatures_assigned) if item not in signatures_truth]\n",
    "inds_truth_unmatched = [index for index,item in enumerate(signatures_truth) if item not in signatures_assigned]\n",
    "\n",
    "per_sample_agreement = (H_s[inds,:] > 0) == (H_truth[inds_truth,:] > 0)"
   ]
  },
  {
   "cell_type": "code",
   "execution_count": 206,
   "metadata": {},
   "outputs": [],
   "source": [
    "accuracy = np.sum(per_sample_agreement)/np.size(H_truth)"
   ]
  },
  {
   "cell_type": "code",
   "execution_count": 207,
   "metadata": {},
   "outputs": [],
   "source": [
    "sensitivity = np.sum((H_truth[inds_truth] > 0) * per_sample_agreement)/np.sum(H_truth > 0) \n",
    "sensitivity = sensitivity - np.sum(H_truth[inds_truth_unmatched,:] > 0)/np.sum(H_truth > 0)"
   ]
  },
  {
   "cell_type": "code",
   "execution_count": 208,
   "metadata": {},
   "outputs": [],
   "source": [
    "fpr = 1 - np.sum((H_truth == 0) * per_sample_agreement)/np.sum(H_truth == 0)\n",
    "fpr = fpr + np.sum(H_s[inds_unmatched] > 0)/np.sum(H_truth == 0)"
   ]
  },
  {
   "cell_type": "code",
   "execution_count": 209,
   "metadata": {},
   "outputs": [
    {
     "name": "stdout",
     "output_type": "stream",
     "text": [
      "0.98989898989899\n"
     ]
    }
   ],
   "source": [
    "print(accuracy)"
   ]
  },
  {
   "cell_type": "code",
   "execution_count": 210,
   "metadata": {},
   "outputs": [
    {
     "name": "stdout",
     "output_type": "stream",
     "text": [
      "0.9938335046248715\n"
     ]
    }
   ],
   "source": [
    "print(sensitivity)"
   ]
  },
  {
   "cell_type": "code",
   "execution_count": 211,
   "metadata": {},
   "outputs": [
    {
     "name": "stdout",
     "output_type": "stream",
     "text": [
      "0.021276595744680868\n"
     ]
    }
   ],
   "source": [
    "print(fpr)"
   ]
  }
 ],
 "metadata": {
  "kernelspec": {
   "display_name": "Python 3",
   "language": "python",
   "name": "python3"
  },
  "language_info": {
   "codemirror_mode": {
    "name": "ipython",
    "version": 3
   },
   "file_extension": ".py",
   "mimetype": "text/x-python",
   "name": "python",
   "nbconvert_exporter": "python",
   "pygments_lexer": "ipython3",
   "version": "3.7.11"
  }
 },
 "nbformat": 4,
 "nbformat_minor": 2
}
